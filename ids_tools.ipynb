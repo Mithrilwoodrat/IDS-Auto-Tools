{
 "cells": [
  {
   "cell_type": "code",
   "execution_count": 1,
   "metadata": {},
   "outputs": [],
   "source": [
    "import idstools.rule"
   ]
  },
  {
   "cell_type": "code",
   "execution_count": 2,
   "metadata": {},
   "outputs": [],
   "source": [
    "line = 'alert tcp any any -> any any (msg:\"tcp alert\"; flow:to_server,established; content:\"java.lang.Runtime\"; sid:82000152; rev:1;)'"
   ]
  },
  {
   "cell_type": "code",
   "execution_count": 3,
   "metadata": {},
   "outputs": [],
   "source": [
    "rule = idstools.rule.parse(line)"
   ]
  },
  {
   "cell_type": "code",
   "execution_count": 4,
   "metadata": {},
   "outputs": [
    {
     "data": {
      "text/plain": [
       "{'action': u'alert',\n",
       " 'classtype': None,\n",
       " u'content': u'\"java.lang.Runtime\"',\n",
       " 'direction': u'->',\n",
       " 'enabled': True,\n",
       " u'flow': u'to_server,established',\n",
       " 'flowbits': [],\n",
       " 'gid': 1,\n",
       " 'group': None,\n",
       " 'header': u'alert tcp any any -> any any',\n",
       " 'metadata': [],\n",
       " 'msg': u'tcp alert',\n",
       " 'options': [{'name': u'msg', 'value': u'\"tcp alert\"'},\n",
       "  {'name': u'flow', 'value': u'to_server,established'},\n",
       "  {'name': u'content', 'value': u'\"java.lang.Runtime\"'},\n",
       "  {'name': u'sid', 'value': u'82000152'},\n",
       "  {'name': u'rev', 'value': u'1'}],\n",
       " 'priority': 0,\n",
       " 'raw': u'alert tcp any any -> any any (msg:\"tcp alert\"; flow:to_server,established; content:\"java.lang.Runtime\"; sid:82000152; rev:1;)',\n",
       " 'references': [],\n",
       " 'rev': 1,\n",
       " 'sid': 82000152}"
      ]
     },
     "execution_count": 4,
     "metadata": {},
     "output_type": "execute_result"
    }
   ],
   "source": [
    "rule"
   ]
  },
  {
   "cell_type": "code",
   "execution_count": 5,
   "metadata": {},
   "outputs": [
    {
     "data": {
      "text/plain": [
       "{'action': u'alert',\n",
       " 'classtype': None,\n",
       " 'direction': u'->',\n",
       " 'enabled': True,\n",
       " u'flow': u'to_server,established',\n",
       " 'flowbits': [],\n",
       " 'gid': 1,\n",
       " 'group': None,\n",
       " 'header': u'alert tcp any any -> any any',\n",
       " 'metadata': [],\n",
       " 'msg': u'tcp alert',\n",
       " 'options': [{'name': u'msg', 'value': u'\"tcp alert\"'},\n",
       "  {'name': u'flow', 'value': u'to_server,established'},\n",
       "  {'name': u'sid', 'value': u'82000152'},\n",
       "  {'name': u'rev', 'value': u'1'}],\n",
       " 'priority': 0,\n",
       " 'raw': u'alert tcp any any -> any any (msg:\"tcp alert\"; flow:to_server,established; sid:82000152; rev:1;)',\n",
       " 'references': [],\n",
       " 'rev': 1,\n",
       " 'sid': 82000152}"
      ]
     },
     "execution_count": 5,
     "metadata": {},
     "output_type": "execute_result"
    }
   ],
   "source": [
    "idstools.rule.remove_option(rule, 'content')"
   ]
  },
  {
   "cell_type": "code",
   "execution_count": 6,
   "metadata": {},
   "outputs": [],
   "source": [
    "rule = idstools.rule.add_option(rule, 'content', '\"test http\"')"
   ]
  },
  {
   "cell_type": "code",
   "execution_count": 7,
   "metadata": {},
   "outputs": [
    {
     "data": {
      "text/plain": [
       "'alert tcp any any -> any any (msg:\"tcp alert\"; flow:to_server,established; sid:82000152; rev:1; content:\"test http\";)'"
      ]
     },
     "execution_count": 7,
     "metadata": {},
     "output_type": "execute_result"
    }
   ],
   "source": [
    "str(rule)"
   ]
  }
 ],
 "metadata": {
  "kernelspec": {
   "display_name": "Python 2",
   "language": "python",
   "name": "python2"
  },
  "language_info": {
   "codemirror_mode": {
    "name": "ipython",
    "version": 2
   },
   "file_extension": ".py",
   "mimetype": "text/x-python",
   "name": "python",
   "nbconvert_exporter": "python",
   "pygments_lexer": "ipython2",
   "version": "2.7.15rc1"
  }
 },
 "nbformat": 4,
 "nbformat_minor": 2
}
